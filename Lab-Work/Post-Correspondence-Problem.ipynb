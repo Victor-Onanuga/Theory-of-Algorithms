{
 "cells": [
  {
   "cell_type": "markdown",
   "id": "020090c8-1ff1-4294-b318-7f1859136915",
   "metadata": {},
   "source": [
    "### Post Correspondence Problem\n",
    "https://en.wikipedia.org/wiki/Post_correspondence_problem"
   ]
  },
  {
   "cell_type": "code",
   "execution_count": null,
   "id": "eef52f91-46a9-4fd7-bc7e-e831ea9c4aa4",
   "metadata": {},
   "outputs": [],
   "source": [
    "### Sets \n",
    "https://en.wikipedia.org/wiki/Post_correspondence_problem"
   ]
  },
  {
   "cell_type": "code",
   "execution_count": 3,
   "id": "23e0c08d-f336-4b7b-af36-c8296323a598",
   "metadata": {},
   "outputs": [],
   "source": [
    "# Alphabet for strings: a set.\n",
    "A = {'a', 'b'}"
   ]
  },
  {
   "cell_type": "code",
   "execution_count": 4,
   "id": "390414fa-bd8b-4827-819b-601aa8781a27",
   "metadata": {},
   "outputs": [
    {
     "data": {
      "text/plain": [
       "set"
      ]
     },
     "execution_count": 4,
     "metadata": {},
     "output_type": "execute_result"
    }
   ],
   "source": [
    "# Curly braces are often  used for sets.\n",
    "type(A)"
   ]
  },
  {
   "cell_type": "code",
   "execution_count": 5,
   "id": "d3b5eb30-cdf0-42a2-9519-cdc48cca3131",
   "metadata": {},
   "outputs": [
    {
     "data": {
      "text/plain": [
       "True"
      ]
     },
     "execution_count": 5,
     "metadata": {},
     "output_type": "execute_result"
    }
   ],
   "source": [
    "# Sets are unordered.\n",
    "{'a', 'b'} == {'b', 'a'}"
   ]
  },
  {
   "cell_type": "code",
   "execution_count": 6,
   "id": "7ad7be37-815e-4376-99cc-c2b88665eea4",
   "metadata": {},
   "outputs": [
    {
     "data": {
      "text/plain": [
       "False"
      ]
     },
     "execution_count": 6,
     "metadata": {},
     "output_type": "execute_result"
    }
   ],
   "source": [
    "# FYI, order does matter for lists.\n",
    "['a', 'b'] == ['b', 'a']"
   ]
  },
  {
   "cell_type": "code",
   "execution_count": 7,
   "id": "47d04ccc-1576-4b6f-9ab0-9f24d90dbb80",
   "metadata": {},
   "outputs": [
    {
     "data": {
      "text/plain": [
       "{1, 2, 3}"
      ]
     },
     "execution_count": 7,
     "metadata": {},
     "output_type": "execute_result"
    }
   ],
   "source": [
    "# Using the set() function to create a set from a list.\n",
    "set([1,2,3])"
   ]
  },
  {
   "cell_type": "code",
   "execution_count": 8,
   "id": "d8ab04b2-4ec5-481b-902e-3e10afd0cca4",
   "metadata": {},
   "outputs": [
    {
     "data": {
      "text/plain": [
       "{1, 2, 3}"
      ]
     },
     "execution_count": 8,
     "metadata": {},
     "output_type": "execute_result"
    }
   ],
   "source": [
    "# Sets don't keep count.\n",
    "set([3,2,2,1])"
   ]
  },
  {
   "cell_type": "code",
   "execution_count": 9,
   "id": "04252514-fa61-4f59-9234-4c45e33c3675",
   "metadata": {},
   "outputs": [
    {
     "data": {
      "text/plain": [
       "True"
      ]
     },
     "execution_count": 9,
     "metadata": {},
     "output_type": "execute_result"
    }
   ],
   "source": [
    "# Tests whether or not an item is in the set.\n",
    "1 in {1,2,3}"
   ]
  },
  {
   "cell_type": "code",
   "execution_count": 10,
   "id": "72e273ba-2ee5-4152-83b1-e761be0d523a",
   "metadata": {},
   "outputs": [
    {
     "data": {
      "text/plain": [
       "False"
      ]
     },
     "execution_count": 10,
     "metadata": {},
     "output_type": "execute_result"
    }
   ],
   "source": [
    "'a' in {1,2,3}"
   ]
  },
  {
   "cell_type": "markdown",
   "id": "82c88326-dd65-4037-be81-e989bad43771",
   "metadata": {},
   "source": [
    "When a set is defined, it gives rise to a decision problem.\n"
   ]
  },
  {
   "cell_type": "markdown",
   "id": "7ddd41b0-48f7-4203-bf07-e82215b75b08",
   "metadata": {},
   "source": [
    "The decision problem is given item in the set?"
   ]
  },
  {
   "cell_type": "code",
   "execution_count": null,
   "id": "5be2275c-ad4b-4052-96ec-34fd33960e72",
   "metadata": {},
   "outputs": [],
   "source": []
  },
  {
   "cell_type": "code",
   "execution_count": null,
   "id": "e30092a1-6cc2-4243-9f49-2ae1f63f8b7a",
   "metadata": {},
   "outputs": [],
   "source": []
  },
  {
   "cell_type": "code",
   "execution_count": null,
   "id": "032e7917-de99-4491-a405-e99f3802621f",
   "metadata": {},
   "outputs": [],
   "source": []
  },
  {
   "cell_type": "code",
   "execution_count": 2,
   "id": "57f5ea04-0cd0-4b26-8aa2-12759551b7e1",
   "metadata": {},
   "outputs": [],
   "source": [
    "L1 = ['a', 'ab', 'bba']"
   ]
  },
  {
   "cell_type": "code",
   "execution_count": 3,
   "id": "8b408b76-7671-4e0a-be19-89465be02587",
   "metadata": {},
   "outputs": [],
   "source": [
    "L2 = ['baa', 'aa', 'bb']"
   ]
  },
  {
   "cell_type": "code",
   "execution_count": 4,
   "id": "f6985e40-3060-4811-b79f-c30e05f5b4fd",
   "metadata": {},
   "outputs": [],
   "source": [
    "S = [2, 1, 2, 0]"
   ]
  },
  {
   "cell_type": "code",
   "execution_count": 5,
   "id": "2fb15c7a-49a6-4e4e-906d-8462b733d100",
   "metadata": {},
   "outputs": [
    {
     "data": {
      "text/plain": [
       "'bbaabbbaa'"
      ]
     },
     "execution_count": 5,
     "metadata": {},
     "output_type": "execute_result"
    }
   ],
   "source": [
    "# Apply S to L1.\n",
    "'bba' + 'ab' + 'bba' + 'a'"
   ]
  },
  {
   "cell_type": "code",
   "execution_count": 6,
   "id": "61069ab3-5bda-4209-92d3-e6bc3f74aee4",
   "metadata": {},
   "outputs": [
    {
     "data": {
      "text/plain": [
       "'bbaabbbaa'"
      ]
     },
     "execution_count": 6,
     "metadata": {},
     "output_type": "execute_result"
    }
   ],
   "source": [
    "# Apply S to L2.\n",
    "'bb' + 'aa' + 'bb' + 'baa'"
   ]
  },
  {
   "cell_type": "markdown",
   "id": "c490663e-603b-43c0-bfb3-218dba3fffcd",
   "metadata": {},
   "source": [
    "So `L1` corresponds to `L2`"
   ]
  },
  {
   "cell_type": "code",
   "execution_count": 7,
   "id": "fb01f29e-21ae-483e-a0c3-c10cef243105",
   "metadata": {},
   "outputs": [],
   "source": [
    "def apply(S, L):\n",
    "    S_on_L = [L[i] for i in S]\n",
    "    return ''.join(S_on_L) "
   ]
  },
  {
   "cell_type": "code",
   "execution_count": 8,
   "id": "b1d469c6-24ec-4ca9-9fa3-e3692b34a624",
   "metadata": {},
   "outputs": [
    {
     "data": {
      "text/plain": [
       "'bbaabbbaa'"
      ]
     },
     "execution_count": 8,
     "metadata": {},
     "output_type": "execute_result"
    }
   ],
   "source": [
    "apply(S, L1)"
   ]
  },
  {
   "cell_type": "code",
   "execution_count": 9,
   "id": "8305641b-ebe1-4f79-9ce4-cc51fc3caa74",
   "metadata": {},
   "outputs": [
    {
     "data": {
      "text/plain": [
       "[2, 1, 2, 0]"
      ]
     },
     "execution_count": 9,
     "metadata": {},
     "output_type": "execute_result"
    }
   ],
   "source": [
    "S"
   ]
  },
  {
   "cell_type": "code",
   "execution_count": 10,
   "id": "d11a85cc-f59c-4d2b-a9cb-3ee7af89a39e",
   "metadata": {},
   "outputs": [
    {
     "data": {
      "text/plain": [
       "['a', 'ab', 'bba']"
      ]
     },
     "execution_count": 10,
     "metadata": {},
     "output_type": "execute_result"
    }
   ],
   "source": [
    "L1"
   ]
  },
  {
   "cell_type": "code",
   "execution_count": 12,
   "id": "109d192e-0298-43fd-b546-37223c6c1ad7",
   "metadata": {},
   "outputs": [
    {
     "data": {
      "text/plain": [
       "['bba', 'ab', 'bba', 'a']"
      ]
     },
     "execution_count": 12,
     "metadata": {},
     "output_type": "execute_result"
    }
   ],
   "source": [
    "[L1[i] for i in S]"
   ]
  },
  {
   "cell_type": "code",
   "execution_count": 13,
   "id": "ba03fe6a-78a2-4c95-b3ee-bed0e8dc9aee",
   "metadata": {},
   "outputs": [
    {
     "data": {
      "text/plain": [
       "'oneJOINtwoJOINthree'"
      ]
     },
     "execution_count": 13,
     "metadata": {},
     "output_type": "execute_result"
    }
   ],
   "source": [
    "'JOIN'.join(['one', 'two', 'three'])"
   ]
  },
  {
   "cell_type": "code",
   "execution_count": 14,
   "id": "52615fe6-096f-43cd-a43f-731801c40639",
   "metadata": {},
   "outputs": [
    {
     "data": {
      "text/plain": [
       "'bbaabbbaa'"
      ]
     },
     "execution_count": 14,
     "metadata": {},
     "output_type": "execute_result"
    }
   ],
   "source": [
    "apply(S, L1)"
   ]
  },
  {
   "cell_type": "code",
   "execution_count": 15,
   "id": "1110bda2-8f69-47bf-9528-de33799120ae",
   "metadata": {},
   "outputs": [
    {
     "data": {
      "text/plain": [
       "'bbaabbbaa'"
      ]
     },
     "execution_count": 15,
     "metadata": {},
     "output_type": "execute_result"
    }
   ],
   "source": [
    "apply(S, L2)"
   ]
  },
  {
   "cell_type": "code",
   "execution_count": 16,
   "id": "61201fb2-73b8-4236-a36e-135869656905",
   "metadata": {},
   "outputs": [
    {
     "data": {
      "text/plain": [
       "True"
      ]
     },
     "execution_count": 16,
     "metadata": {},
     "output_type": "execute_result"
    }
   ],
   "source": [
    "apply(S, L1) == apply(S, L2)"
   ]
  },
  {
   "cell_type": "code",
   "execution_count": 17,
   "id": "a7b4c999-3d99-410d-b30b-84fe15ed9a16",
   "metadata": {},
   "outputs": [
    {
     "data": {
      "text/plain": [
       "'bbaabbbaabbaabbbaa'"
      ]
     },
     "execution_count": 17,
     "metadata": {},
     "output_type": "execute_result"
    }
   ],
   "source": [
    "apply([2, 1, 2, 0, 2, 1, 2, 0], L2)"
   ]
  },
  {
   "cell_type": "markdown",
   "id": "b20fda20-31f4-4905-a826-7a93533e6c91",
   "metadata": {},
   "source": [
    "## No Correspondence"
   ]
  },
  {
   "cell_type": "code",
   "execution_count": 18,
   "id": "a9b00282-d0aa-4a22-b23d-aae67a73ac8f",
   "metadata": {},
   "outputs": [],
   "source": [
    "L1 = ['ab', 'bba']"
   ]
  },
  {
   "cell_type": "code",
   "execution_count": 19,
   "id": "2552be2c-d1c0-4f23-9594-39bac1504c2a",
   "metadata": {},
   "outputs": [],
   "source": [
    "L1 = ['aa', 'bb']"
   ]
  },
  {
   "cell_type": "code",
   "execution_count": null,
   "id": "afea562a-5978-4a49-addf-70c6b921dd61",
   "metadata": {},
   "outputs": [],
   "source": [
    "S = ?"
   ]
  },
  {
   "cell_type": "markdown",
   "id": "4e1708a5-712b-4087-8f9f-cca92291e68f",
   "metadata": {},
   "source": [
    "$$ (L_1,L_2) \\rightarrow \\{True, False\\} \\\\ |L_1| = |L_2| $$"
   ]
  },
  {
   "cell_type": "code",
   "execution_count": null,
   "id": "5b6c47f6-e51f-4323-9c4f-bb8284e3fdde",
   "metadata": {},
   "outputs": [],
   "source": []
  },
  {
   "cell_type": "code",
   "execution_count": null,
   "id": "0f36bde6-8e22-4243-a63b-79db4bed0603",
   "metadata": {},
   "outputs": [],
   "source": []
  },
  {
   "cell_type": "code",
   "execution_count": null,
   "id": "d937ff23-4a18-4f55-81e8-ee8d17f1fb64",
   "metadata": {},
   "outputs": [],
   "source": []
  }
 ],
 "metadata": {
  "kernelspec": {
   "display_name": "Python 3 (ipykernel)",
   "language": "python",
   "name": "python3"
  },
  "language_info": {
   "codemirror_mode": {
    "name": "ipython",
    "version": 3
   },
   "file_extension": ".py",
   "mimetype": "text/x-python",
   "name": "python",
   "nbconvert_exporter": "python",
   "pygments_lexer": "ipython3",
   "version": "3.8.12"
  }
 },
 "nbformat": 4,
 "nbformat_minor": 5
}
